{
 "cells": [
  {
   "cell_type": "markdown",
   "metadata": {
    "id": "2xg1OCvqO6YI"
   },
   "source": [
    "Welcome to the module on Advanced Regression. In this module, we will learn how to deal with variables which do not exhibit a linear relationship with the target variable. Furthermore, we will learn how to avoid the perils of overfitting and make a generalisable model."
   ]
  },
  {
   "cell_type": "markdown",
   "metadata": {
    "id": "cWQy3TsbPV2W"
   },
   "source": [
    "Lets start off with a quick recap of simple linear regression. In the first example. we will try to model sales of an online retailer with the help of the marketing spend. Lets see how we go about it"
   ]
  },
  {
   "cell_type": "code",
   "execution_count": 1,
   "metadata": {
    "id": "VdA4-7WU1iil"
   },
   "outputs": [],
   "source": [
    "# importing the requisite libraries\n",
    "\n",
    "import numpy as np\n",
    "import pandas as pd\n",
    "import matplotlib.pyplot as plt\n",
    "import seaborn as sns\n",
    "from sklearn.linear_model import LinearRegression\n",
    "from sklearn.metrics import r2_score, mean_squared_error\n",
    "\n",
    "import warnings\n",
    "warnings.filterwarnings('ignore')\n"
   ]
  },
  {
   "cell_type": "markdown",
   "metadata": {
    "id": "RLXIuxCrmee3"
   },
   "source": [
    "### 1.1 Simple Linear Regression"
   ]
  },
  {
   "cell_type": "markdown",
   "metadata": {
    "id": "Itaw8n9i26ay"
   },
   "source": [
    "#### We will build a model using TV spend on advertisements to predict sales"
   ]
  },
  {
   "cell_type": "code",
   "execution_count": null,
   "metadata": {
    "id": "S1xgV8ct3Sev"
   },
   "outputs": [],
   "source": [
    "# Reading the dataset\n",
    "\n",
    "df = pd.read_csv('https://cdn.upgrad.com/UpGrad/temp/098bb2e9-83fb-48df-9dd1-fac56fbb25ca/advertising.csv')"
   ]
  },
  {
   "cell_type": "code",
   "execution_count": null,
   "metadata": {
    "colab": {
     "base_uri": "https://localhost:8080/"
    },
    "id": "QvemyN_NTXpQ",
    "outputId": "04ef5b38-e858-4dea-fda3-d35c19463cc0"
   },
   "outputs": [],
   "source": [
    "df.info()"
   ]
  },
  {
   "cell_type": "code",
   "execution_count": null,
   "metadata": {},
   "outputs": [],
   "source": [
    "data = df[[\"TV\", \"Sales\"]]\n",
    "data.head()"
   ]
  },
  {
   "cell_type": "code",
   "execution_count": null,
   "metadata": {
    "colab": {
     "base_uri": "https://localhost:8080/",
     "height": 296
    },
    "id": "lqEh0unm4Mtu",
    "outputId": "746407f3-cbf8-4141-997c-af3036395799"
   },
   "outputs": [],
   "source": [
    "# Plotting a scatter plot\n",
    "\n",
    "sns.scatterplot( data = data , x = 'TV' , y = 'Sales')"
   ]
  },
  {
   "cell_type": "markdown",
   "metadata": {
    "id": "1q4YGqIH4Mt0"
   },
   "source": [
    "As you can infer from the above plot, the relationship between the two variables seems to be linear."
   ]
  },
  {
   "cell_type": "code",
   "execution_count": null,
   "metadata": {
    "id": "YvfGT9qB4Mt0"
   },
   "outputs": [],
   "source": [
    "# Splitting the dataset into X and y\n",
    "\n",
    "X = np.array(data['TV']).reshape(-1,1) # predictor variable\n",
    "y = np.array(data['Sales']).reshape(-1,1) # response variable"
   ]
  },
  {
   "cell_type": "code",
   "execution_count": null,
   "metadata": {
    "colab": {
     "base_uri": "https://localhost:8080/"
    },
    "id": "zRL8EyJy4Mt3",
    "outputId": "2471e95c-f8c3-4ff1-d365-c8996e4390a4"
   },
   "outputs": [],
   "source": [
    "# Building the regression model\n",
    "reg = LinearRegression()\n",
    "reg.fit(X,y)"
   ]
  },
  {
   "cell_type": "code",
   "execution_count": null,
   "metadata": {
    "id": "pK0ZEIO74Mt6"
   },
   "outputs": [],
   "source": [
    "# Predictions on the basis of the model\n",
    "y_pred = reg.predict(X)\n",
    "# y_pred"
   ]
  },
  {
   "cell_type": "code",
   "execution_count": null,
   "metadata": {
    "colab": {
     "base_uri": "https://localhost:8080/"
    },
    "id": "sYPVxiBK4Mt9",
    "outputId": "3d093d26-37fb-4f70-f6c1-c63c370a41b4"
   },
   "outputs": [],
   "source": [
    "# Find the value of r squared\n",
    "r2_score(y , y_pred)\n",
    "# The advertising spends on TV explain about 81.21% of the variation in the Sales"
   ]
  },
  {
   "cell_type": "code",
   "execution_count": null,
   "metadata": {
    "colab": {
     "base_uri": "https://localhost:8080/",
     "height": 278
    },
    "id": "3Udh-iIC4MuB",
    "outputId": "9ae3777e-632d-4174-db19-67a7935e2584"
   },
   "outputs": [],
   "source": [
    "# Visualizing the model fit\n",
    "plt.scatter( X , y , color = 'blue')\n",
    "plt.plot(X , y_pred , color = 'red' , linewidth = 3)\n",
    "plt.xlabel(\"TV (Million $)\")\n",
    "plt.ylabel(\"Sales (Million $)\")\n",
    "plt.show()"
   ]
  },
  {
   "cell_type": "code",
   "execution_count": null,
   "metadata": {
    "colab": {
     "base_uri": "https://localhost:8080/"
    },
    "id": "58u4eynH4MuH",
    "outputId": "ed3d3a2b-6af3-4ac1-e664-bd658c4e10ff"
   },
   "outputs": [],
   "source": [
    "# Model Coefficients: beta0 and beta1\n",
    "print(reg.intercept_)\n",
    "print(reg.coef_)"
   ]
  },
  {
   "cell_type": "code",
   "execution_count": null,
   "metadata": {
    "colab": {
     "base_uri": "https://localhost:8080/"
    },
    "id": "TAQv59Wa4MuJ",
    "outputId": "c88c26a9-b0f5-474c-d152-a9dcb220a0a7"
   },
   "outputs": [],
   "source": [
    "# Metrics to assess model performance \n",
    "rss = np.sum(np.square(y - y_pred)) # sum of the squared difference between the actual and the predicted values\n",
    "print(rss)\n",
    "mse = mean_squared_error(y, y_pred) # MSE is RSS divided by the number of observations\n",
    "print(mse)\n",
    "rmse = mse**0.5 # RMSE is square root of MSE \n",
    "print(rmse)"
   ]
  },
  {
   "cell_type": "markdown",
   "metadata": {},
   "source": [
    "#### Checking for assumptions"
   ]
  },
  {
   "cell_type": "code",
   "execution_count": null,
   "metadata": {
    "id": "eXCl-vtJ4MuM"
   },
   "outputs": [],
   "source": [
    "# Residual analysis\n",
    "y_res = y - y_pred # Residuals"
   ]
  },
  {
   "cell_type": "code",
   "execution_count": null,
   "metadata": {
    "colab": {
     "base_uri": "https://localhost:8080/",
     "height": 278
    },
    "id": "nOQV3CfY4MuT",
    "outputId": "c71c4da5-f1f1-4741-f2a7-b472fc579fbf"
   },
   "outputs": [],
   "source": [
    "# Residual v/s predictions plot\n",
    "data['res'] = y_res\n",
    "plt.scatter( y_pred , data['res'])\n",
    "plt.axhline(y=0, color='r', linestyle=':')\n",
    "plt.xlabel(\"TV Spend (Million $)\")\n",
    "plt.ylabel(\"Residual\")\n",
    "plt.show()"
   ]
  },
  {
   "cell_type": "code",
   "execution_count": null,
   "metadata": {
    "colab": {
     "base_uri": "https://localhost:8080/",
     "height": 294
    },
    "id": "9nsuKqbL4MuX",
    "outputId": "8b60c7d1-9bd7-4c4a-a6ff-f95a49c0137d"
   },
   "outputs": [],
   "source": [
    "# Distribution of errors\n",
    "p = sns.distplot(y_res,kde=True)\n",
    "\n",
    "p = plt.title('Normality of error terms/residuals')\n",
    "plt.xlabel(\"Residuals\")\n",
    "plt.show()"
   ]
  },
  {
   "cell_type": "code",
   "execution_count": null,
   "metadata": {},
   "outputs": [],
   "source": []
  },
  {
   "cell_type": "code",
   "execution_count": null,
   "metadata": {},
   "outputs": [],
   "source": []
  },
  {
   "cell_type": "code",
   "execution_count": null,
   "metadata": {},
   "outputs": [],
   "source": []
  },
  {
   "cell_type": "code",
   "execution_count": null,
   "metadata": {},
   "outputs": [],
   "source": []
  },
  {
   "cell_type": "code",
   "execution_count": null,
   "metadata": {},
   "outputs": [],
   "source": []
  },
  {
   "cell_type": "code",
   "execution_count": null,
   "metadata": {},
   "outputs": [],
   "source": []
  },
  {
   "cell_type": "code",
   "execution_count": null,
   "metadata": {},
   "outputs": [],
   "source": []
  },
  {
   "cell_type": "code",
   "execution_count": null,
   "metadata": {},
   "outputs": [],
   "source": []
  },
  {
   "cell_type": "code",
   "execution_count": null,
   "metadata": {},
   "outputs": [],
   "source": []
  },
  {
   "cell_type": "markdown",
   "metadata": {
    "id": "4INVAOzkKBgn"
   },
   "source": [
    "### Normal Equations\n",
    "\n",
    "#### Regression Equation\n",
    "$\\hat{y_i} = b_{0} + b_{1}{x_i}$<br>\n",
    "where slope of trend line is calculated as:<br>\n",
    "$b_{1}=\\frac{\\sum (x_i-\\bar{x})*(y_i-\\bar{y})}{\\sum (x_i-\\bar{x})^{2}}$<br>\n",
    "and the intercept is computed as:<br>\n",
    "$b_{0}=\\bar{y}-b_{1}\\bar{x}$"
   ]
  },
  {
   "cell_type": "code",
   "execution_count": null,
   "metadata": {
    "id": "HvPFFcOdtALQ"
   },
   "outputs": [],
   "source": [
    "# Computing X and Y\n",
    "X = data['TV'].values # advertising spend on TV\n",
    "Y = data['Sales'].values # Sales"
   ]
  },
  {
   "cell_type": "code",
   "execution_count": null,
   "metadata": {
    "id": "6-v1ghJMJWRe"
   },
   "outputs": [],
   "source": [
    "# Mean X and Y\n",
    "mean_x = np.mean(X)\n",
    "mean_y = np.mean(Y)\n",
    " \n",
    "# Total number of values\n",
    "n = len(X)"
   ]
  },
  {
   "cell_type": "code",
   "execution_count": null,
   "metadata": {
    "colab": {
     "base_uri": "https://localhost:8080/"
    },
    "id": "iM-mh5gyJX9h",
    "outputId": "06981a81-9aeb-4e6f-cbba-b9e4d288af5e"
   },
   "outputs": [],
   "source": [
    "# Using the formula to calculate 'b0' and 'b1'\n",
    "numer = 0\n",
    "denom = 0\n",
    "for i in range(n): # for each observation in the data\n",
    "  numer += (X[i] - mean_x) * (Y[i] - mean_y) # compute the expression and sum over all observations using for loop\n",
    "  denom += (X[i] - mean_x) ** 2\n",
    "b1 = numer / denom\n",
    "b0 = mean_y - (b1 * mean_x)\n",
    " \n",
    "# Printing coefficients\n",
    "print(\"Coefficients\")\n",
    "print(b0, b1)"
   ]
  },
  {
   "cell_type": "markdown",
   "metadata": {
    "id": "O-cQ6OnvKM44"
   },
   "source": [
    "### Linear Regression Model Estimates using Matrix Multiplications\n",
    "\n",
    "$\\widehat{\\beta}=(X^{T}.X)^{-1}.X^{T}.Y$"
   ]
  },
  {
   "cell_type": "code",
   "execution_count": null,
   "metadata": {
    "id": "pCotKXTvKM5L"
   },
   "outputs": [],
   "source": [
    "# We use NumPy’s vstack to create a 2-d numpy array from two 1d-arrays and create X_mat.\n",
    "X_mat=np.vstack((np.ones(len(X)), X)).T"
   ]
  },
  {
   "cell_type": "code",
   "execution_count": null,
   "metadata": {},
   "outputs": [],
   "source": [
    "X_mat"
   ]
  },
  {
   "cell_type": "code",
   "execution_count": null,
   "metadata": {},
   "outputs": [],
   "source": [
    "Y"
   ]
  },
  {
   "cell_type": "markdown",
   "metadata": {},
   "source": [
    "$\\widehat{\\beta}=(X^{T}.X)^{-1}.X^{T}.Y$"
   ]
  },
  {
   "cell_type": "code",
   "execution_count": null,
   "metadata": {
    "id": "QvYamwvoKM5e"
   },
   "outputs": [],
   "source": [
    "# We can implement this using NumPy’s linalg module’s matrix inverse function and matrix multiplication function.\n",
    "beta_hat = np.linalg.inv(X_mat.T.dot(X_mat)).dot(X_mat.T).dot(Y)"
   ]
  },
  {
   "cell_type": "code",
   "execution_count": null,
   "metadata": {
    "colab": {
     "base_uri": "https://localhost:8080/"
    },
    "id": "vKAfauQbKM5l",
    "outputId": "f6b2fbb8-062f-46d0-af94-1b7c0fb8a6db"
   },
   "outputs": [],
   "source": [
    "beta_hat"
   ]
  },
  {
   "cell_type": "code",
   "execution_count": null,
   "metadata": {},
   "outputs": [],
   "source": []
  },
  {
   "cell_type": "code",
   "execution_count": null,
   "metadata": {},
   "outputs": [],
   "source": []
  },
  {
   "cell_type": "code",
   "execution_count": null,
   "metadata": {},
   "outputs": [],
   "source": []
  },
  {
   "cell_type": "code",
   "execution_count": null,
   "metadata": {},
   "outputs": [],
   "source": []
  },
  {
   "cell_type": "code",
   "execution_count": null,
   "metadata": {},
   "outputs": [],
   "source": []
  },
  {
   "cell_type": "code",
   "execution_count": null,
   "metadata": {},
   "outputs": [],
   "source": []
  },
  {
   "cell_type": "markdown",
   "metadata": {
    "id": "Ts_s172rmjBA"
   },
   "source": [
    "### 1.2 Multiple Linear Regression\n"
   ]
  },
  {
   "cell_type": "markdown",
   "metadata": {
    "id": "ud3Gp7DPrNOf"
   },
   "source": [
    "#### We predict the sales based on the expenditure on TV, Radio and Newspaper advertisements"
   ]
  },
  {
   "cell_type": "code",
   "execution_count": null,
   "metadata": {
    "id": "HRkxl_hTubB3"
   },
   "outputs": [],
   "source": [
    "# Reading the dataset\n",
    "df = pd.read_csv('https://cdn.upgrad.com/UpGrad/temp/098bb2e9-83fb-48df-9dd1-fac56fbb25ca/advertising.csv')"
   ]
  },
  {
   "cell_type": "code",
   "execution_count": null,
   "metadata": {},
   "outputs": [],
   "source": [
    "df.info()"
   ]
  },
  {
   "cell_type": "code",
   "execution_count": null,
   "metadata": {
    "colab": {
     "base_uri": "https://localhost:8080/"
    },
    "id": "_WgdTDpzubCA",
    "outputId": "b17246cc-d23e-42fe-ac81-9754404e6695"
   },
   "outputs": [],
   "source": [
    "# Inspecting the dataset\n",
    "print(df.head())"
   ]
  },
  {
   "cell_type": "code",
   "execution_count": null,
   "metadata": {
    "id": "4uITUQ79ubCE"
   },
   "outputs": [],
   "source": [
    "data  = df"
   ]
  },
  {
   "cell_type": "code",
   "execution_count": null,
   "metadata": {
    "colab": {
     "base_uri": "https://localhost:8080/",
     "height": 296
    },
    "id": "LsovL1I7ubCH",
    "outputId": "de9e243d-3ce3-4601-ec8d-65e92dbf0512"
   },
   "outputs": [],
   "source": [
    "# Plotting a scatter plot\n",
    "\n",
    "sns.scatterplot( data = data , x = 'TV' , y = 'Sales') # advertising spend on TV vs Sales"
   ]
  },
  {
   "cell_type": "code",
   "execution_count": null,
   "metadata": {
    "colab": {
     "base_uri": "https://localhost:8080/",
     "height": 296
    },
    "id": "8hmtqnhXu3h2",
    "outputId": "d1a3682e-2dcf-4c7c-a3b0-be731ce12426"
   },
   "outputs": [],
   "source": [
    "# Plotting a scatter plot\n",
    "\n",
    "sns.scatterplot( data = data , x = 'Radio' , y = 'Sales') # Advertising spend on radio versus Sales"
   ]
  },
  {
   "cell_type": "code",
   "execution_count": null,
   "metadata": {
    "colab": {
     "base_uri": "https://localhost:8080/",
     "height": 296
    },
    "id": "gJPGW-yju87i",
    "outputId": "31309c1f-4cf0-467a-883a-1fd2900b6415"
   },
   "outputs": [],
   "source": [
    "# Plotting a scatter plot\n",
    "\n",
    "sns.scatterplot( data = data , x = 'Newspaper' , y = 'Sales') # Advertising spend on Newspaper versus Sales"
   ]
  },
  {
   "cell_type": "code",
   "execution_count": null,
   "metadata": {},
   "outputs": [],
   "source": [
    "# Linear Regression model"
   ]
  },
  {
   "cell_type": "code",
   "execution_count": null,
   "metadata": {
    "id": "b1JLDnk-ubCL"
   },
   "outputs": [],
   "source": [
    "# Splitting the dataset into X and y\n",
    "X = data[['TV' , 'Newspaper', 'Radio']]\n",
    "y = np.array(data['Sales']).reshape(-1,1)"
   ]
  },
  {
   "cell_type": "code",
   "execution_count": null,
   "metadata": {
    "colab": {
     "base_uri": "https://localhost:8080/"
    },
    "id": "lPQgkRnRubCO",
    "outputId": "653ecfdc-b224-4f73-dc66-9e89b8e8fda2"
   },
   "outputs": [],
   "source": [
    "# Building the regression model\n",
    "reg = LinearRegression()\n",
    "reg.fit(X,y)"
   ]
  },
  {
   "cell_type": "code",
   "execution_count": null,
   "metadata": {
    "id": "cgSU1I9rubCQ"
   },
   "outputs": [],
   "source": [
    "# Predictions on the basis of the model\n",
    "y_pred = reg.predict(X)\n",
    "# y_pred"
   ]
  },
  {
   "cell_type": "code",
   "execution_count": null,
   "metadata": {
    "colab": {
     "base_uri": "https://localhost:8080/"
    },
    "id": "QAlm0hxPubCU",
    "outputId": "ec0fdeb4-87ff-40b1-d8a9-5771dafc40ae"
   },
   "outputs": [],
   "source": [
    "# Find the value of r squared\n",
    "r2_score(y , y_pred) # The three predictors considered explain about 90.25% of the variation in the data"
   ]
  },
  {
   "cell_type": "code",
   "execution_count": null,
   "metadata": {
    "colab": {
     "base_uri": "https://localhost:8080/",
     "height": 278
    },
    "id": "kTiEkPPSubCZ",
    "outputId": "c2e46c8d-9fc1-4b7e-af94-4afe1511f3dc"
   },
   "outputs": [],
   "source": [
    "# Visual comparison between predicted and actual values\n",
    "plt.scatter( X['Radio'] , y , color = 'blue') # actual values\n",
    "plt.scatter( X['Radio'] , y_pred , color = 'red' ) # predicted values\n",
    "plt.xlabel(\"Radio (Million $)\")\n",
    "plt.ylabel(\"Sales (Million $)\")\n",
    "plt.show()"
   ]
  },
  {
   "cell_type": "code",
   "execution_count": null,
   "metadata": {
    "colab": {
     "base_uri": "https://localhost:8080/",
     "height": 278
    },
    "id": "zEr6b9EowVmd",
    "outputId": "24b004eb-acf3-47f1-8060-4c8bed04fe77"
   },
   "outputs": [],
   "source": [
    "plt.scatter( X['TV'] , y , color = 'blue') # actual values\n",
    "plt.scatter( X['TV'] , y_pred , color = 'red' ) # predicted values\n",
    "plt.xlabel(\"TV (Million $)\")\n",
    "plt.ylabel(\"Sales (Million $)\")\n",
    "plt.show()"
   ]
  },
  {
   "cell_type": "code",
   "execution_count": null,
   "metadata": {
    "colab": {
     "base_uri": "https://localhost:8080/",
     "height": 278
    },
    "id": "WCDIpH-qwhSO",
    "outputId": "cc035249-27b3-446e-dd1f-71796855cf8c"
   },
   "outputs": [],
   "source": [
    "plt.scatter( X['Newspaper'] , y , color = 'blue') # actual values\n",
    "plt.scatter( X['Newspaper'] , y_pred , color = 'red' ) # predicted values\n",
    "plt.xlabel(\"TV (Million $)\")\n",
    "plt.ylabel(\"Newspaper (Million $)\")\n",
    "plt.show()"
   ]
  },
  {
   "cell_type": "code",
   "execution_count": null,
   "metadata": {
    "colab": {
     "base_uri": "https://localhost:8080/"
    },
    "id": "A92ve7F3ubCe",
    "outputId": "5874627c-ddd4-4301-d547-6eb32fbbc1ab"
   },
   "outputs": [],
   "source": [
    "# Calculate beta coefficients.\n",
    "print(reg.intercept_)\n",
    "print(reg.coef_)"
   ]
  },
  {
   "cell_type": "code",
   "execution_count": null,
   "metadata": {
    "colab": {
     "base_uri": "https://localhost:8080/"
    },
    "id": "5LZbp19uubCh",
    "outputId": "2272fd45-7fbf-43fe-c874-80719e57d768"
   },
   "outputs": [],
   "source": [
    "# Metrics to give an overall sense of error in the model\n",
    "rss = np.sum(np.square(y - y_pred))\n",
    "print(rss)\n",
    "mse = mean_squared_error(y, y_pred)\n",
    "print(mse)\n",
    "rmse = mse**0.5\n",
    "print(rmse)"
   ]
  },
  {
   "cell_type": "code",
   "execution_count": null,
   "metadata": {
    "id": "4irnIzqNubCk"
   },
   "outputs": [],
   "source": [
    "# Residual analysis\n",
    "y_res = y - y_pred\n",
    "#y_res"
   ]
  },
  {
   "cell_type": "code",
   "execution_count": null,
   "metadata": {
    "colab": {
     "base_uri": "https://localhost:8080/",
     "height": 278
    },
    "id": "-izhZAUyE2Cw",
    "outputId": "56e58622-902f-4393-e30e-3ae3f54da81a"
   },
   "outputs": [],
   "source": [
    "data['res'] = y_res\n",
    "plt.scatter( y_pred , data['res'])\n",
    "plt.axhline(y=0, color='r', linestyle=':')\n",
    "plt.xlabel(\"Predictions\")\n",
    "plt.ylabel(\"Residual\")\n",
    "plt.show()"
   ]
  },
  {
   "cell_type": "code",
   "execution_count": null,
   "metadata": {
    "colab": {
     "base_uri": "https://localhost:8080/",
     "height": 294
    },
    "id": "EtNaSD1subCt",
    "outputId": "1fa0b6c9-276f-4635-9b3d-1a2bbbb73820"
   },
   "outputs": [],
   "source": [
    "# Distribution of errors\n",
    "p = sns.distplot(y_res,kde=True)\n",
    "\n",
    "p = plt.title('Normality of error terms/residuals')\n",
    "plt.xlabel(\"Residuals\")\n",
    "plt.show()"
   ]
  },
  {
   "cell_type": "code",
   "execution_count": null,
   "metadata": {},
   "outputs": [],
   "source": []
  },
  {
   "cell_type": "code",
   "execution_count": null,
   "metadata": {},
   "outputs": [],
   "source": []
  },
  {
   "cell_type": "code",
   "execution_count": null,
   "metadata": {},
   "outputs": [],
   "source": []
  },
  {
   "cell_type": "code",
   "execution_count": null,
   "metadata": {},
   "outputs": [],
   "source": []
  },
  {
   "cell_type": "code",
   "execution_count": null,
   "metadata": {},
   "outputs": [],
   "source": []
  },
  {
   "cell_type": "code",
   "execution_count": null,
   "metadata": {},
   "outputs": [],
   "source": []
  },
  {
   "cell_type": "code",
   "execution_count": null,
   "metadata": {},
   "outputs": [],
   "source": []
  },
  {
   "cell_type": "code",
   "execution_count": null,
   "metadata": {},
   "outputs": [],
   "source": []
  },
  {
   "cell_type": "code",
   "execution_count": null,
   "metadata": {},
   "outputs": [],
   "source": []
  },
  {
   "cell_type": "markdown",
   "metadata": {
    "id": "RG2gLSFMxXD-"
   },
   "source": [
    "### Linear Regression Model Estimates using Matrix Multiplications"
   ]
  },
  {
   "cell_type": "code",
   "execution_count": null,
   "metadata": {
    "id": "8V4fmWu-ym8n"
   },
   "outputs": [],
   "source": [
    "# We use NumPy’s vstack to create a 2-d numpy array from two 1d-arrays and create X_mat.\n",
    "X_mat=np.vstack((np.ones(len(X)), X.T)).T"
   ]
  },
  {
   "cell_type": "code",
   "execution_count": null,
   "metadata": {
    "id": "mvuRvl2I4s8M"
   },
   "outputs": [],
   "source": [
    "#X_mat"
   ]
  },
  {
   "cell_type": "markdown",
   "metadata": {},
   "source": [
    "#### $\\widehat{\\beta}=(X^{T}.X)^{-1}.X^{T}.Y$"
   ]
  },
  {
   "cell_type": "code",
   "execution_count": null,
   "metadata": {
    "id": "OdIDxc4_xxdx"
   },
   "outputs": [],
   "source": [
    "# We can implement this using NumPy’s linalg module’s matrix inverse function and matrix multiplication function.\n",
    "beta_hat = np.linalg.inv(X_mat.T.dot(X_mat)).dot(X_mat.T).dot(y)"
   ]
  },
  {
   "cell_type": "code",
   "execution_count": null,
   "metadata": {
    "colab": {
     "base_uri": "https://localhost:8080/"
    },
    "id": "DK-v2WKpysgO",
    "outputId": "78ff4820-5b24-4988-e524-37f661586916"
   },
   "outputs": [],
   "source": [
    "beta_hat"
   ]
  },
  {
   "cell_type": "code",
   "execution_count": null,
   "metadata": {
    "id": "Ca_mcHPWSuqt"
   },
   "outputs": [],
   "source": [
    "beta_hat_list = [beta_hat[i][0] for i in range(len(beta_hat))]\n",
    "coefficients = ['b0', 'b1(TV)', 'b2(Radio)', 'b3(Newspaper)']\n",
    "betas = dict(zip(coefficients, beta_hat_list))"
   ]
  },
  {
   "cell_type": "code",
   "execution_count": null,
   "metadata": {
    "colab": {
     "base_uri": "https://localhost:8080/"
    },
    "id": "ToRCGj3sSuqu",
    "outputId": "ad18e603-cb65-4f28-964d-ca7b0468f545"
   },
   "outputs": [],
   "source": [
    "betas"
   ]
  },
  {
   "cell_type": "code",
   "execution_count": null,
   "metadata": {},
   "outputs": [],
   "source": []
  },
  {
   "cell_type": "code",
   "execution_count": null,
   "metadata": {},
   "outputs": [],
   "source": []
  },
  {
   "cell_type": "code",
   "execution_count": null,
   "metadata": {},
   "outputs": [],
   "source": []
  },
  {
   "cell_type": "code",
   "execution_count": null,
   "metadata": {},
   "outputs": [],
   "source": []
  },
  {
   "cell_type": "code",
   "execution_count": null,
   "metadata": {},
   "outputs": [],
   "source": []
  },
  {
   "cell_type": "code",
   "execution_count": null,
   "metadata": {},
   "outputs": [],
   "source": []
  },
  {
   "cell_type": "code",
   "execution_count": null,
   "metadata": {},
   "outputs": [],
   "source": []
  },
  {
   "cell_type": "code",
   "execution_count": null,
   "metadata": {},
   "outputs": [],
   "source": []
  },
  {
   "cell_type": "markdown",
   "metadata": {
    "id": "AB-7WEzzmvET"
   },
   "source": [
    "### Modeling non-linear relationships using data transformation"
   ]
  },
  {
   "cell_type": "markdown",
   "metadata": {
    "id": "8k50BFpznpkw"
   },
   "source": [
    "Here, we need to make a model which predicts how much distance is covered by a truck in a given time unit after a break is applied."
   ]
  },
  {
   "cell_type": "code",
   "execution_count": 4,
   "metadata": {
    "colab": {
     "base_uri": "https://localhost:8080/",
     "height": 197
    },
    "id": "OCXjKgllP0Lk",
    "outputId": "66a7078b-57d3-4f38-9d16-b975e5cfb2ae"
   },
   "outputs": [
    {
     "data": {
      "text/html": [
       "<div>\n",
       "<style scoped>\n",
       "    .dataframe tbody tr th:only-of-type {\n",
       "        vertical-align: middle;\n",
       "    }\n",
       "\n",
       "    .dataframe tbody tr th {\n",
       "        vertical-align: top;\n",
       "    }\n",
       "\n",
       "    .dataframe thead th {\n",
       "        text-align: right;\n",
       "    }\n",
       "</style>\n",
       "<table border=\"1\" class=\"dataframe\">\n",
       "  <thead>\n",
       "    <tr style=\"text-align: right;\">\n",
       "      <th></th>\n",
       "      <th>time</th>\n",
       "      <th>distance</th>\n",
       "    </tr>\n",
       "  </thead>\n",
       "  <tbody>\n",
       "    <tr>\n",
       "      <th>0</th>\n",
       "      <td>1</td>\n",
       "      <td>0.419660</td>\n",
       "    </tr>\n",
       "    <tr>\n",
       "      <th>1</th>\n",
       "      <td>2</td>\n",
       "      <td>1.350692</td>\n",
       "    </tr>\n",
       "    <tr>\n",
       "      <th>2</th>\n",
       "      <td>3</td>\n",
       "      <td>2.470342</td>\n",
       "    </tr>\n",
       "    <tr>\n",
       "      <th>3</th>\n",
       "      <td>4</td>\n",
       "      <td>1.566856</td>\n",
       "    </tr>\n",
       "    <tr>\n",
       "      <th>4</th>\n",
       "      <td>5</td>\n",
       "      <td>1.595280</td>\n",
       "    </tr>\n",
       "  </tbody>\n",
       "</table>\n",
       "</div>"
      ],
      "text/plain": [
       "   time  distance\n",
       "0     1  0.419660\n",
       "1     2  1.350692\n",
       "2     3  2.470342\n",
       "3     4  1.566856\n",
       "4     5  1.595280"
      ]
     },
     "execution_count": 4,
     "metadata": {},
     "output_type": "execute_result"
    }
   ],
   "source": [
    "dist = pd.read_csv(r\"AR - Examples - 1.5.csv\")\n",
    "dist.head()"
   ]
  },
  {
   "cell_type": "code",
   "execution_count": 5,
   "metadata": {
    "colab": {
     "base_uri": "https://localhost:8080/",
     "height": 278
    },
    "id": "OVCCqjyvQRRt",
    "outputId": "e838537d-6b15-42e0-d83d-f8c94be5caad"
   },
   "outputs": [
    {
     "data": {
      "image/png": "[encoded data removed]",
      "text/plain": [
       "<Figure size 432x288 with 1 Axes>"
      ]
     },
     "metadata": {
      "needs_background": "light"
     },
     "output_type": "display_data"
    }
   ],
   "source": [
    "# Plotting a scatter plot\n",
    "sns.scatterplot( data = dist , x ='time' , y='distance')\n",
    "plt.show()"
   ]
  },
  {
   "cell_type": "code",
   "execution_count": 6,
   "metadata": {
    "id": "J7ixDMYcQ0ZI"
   },
   "outputs": [],
   "source": [
    "# Splitting the dataset into X and y\n",
    "X = np.array(dist['time']).reshape(-1,1)\n",
    "y = np.array(dist['distance']).reshape(-1,1)"
   ]
  },
  {
   "cell_type": "code",
   "execution_count": 7,
   "metadata": {
    "id": "4qSfoX2TQbDE"
   },
   "outputs": [],
   "source": [
    "# Building the regression model\n",
    "model = LinearRegression()"
   ]
  },
  {
   "cell_type": "code",
   "execution_count": 8,
   "metadata": {
    "colab": {
     "base_uri": "https://localhost:8080/"
    },
    "id": "7zQZyMkYQxZd",
    "outputId": "b051d971-1002-4ef8-8951-cc39d717d955"
   },
   "outputs": [
    {
     "data": {
      "text/plain": [
       "LinearRegression()"
      ]
     },
     "execution_count": 8,
     "metadata": {},
     "output_type": "execute_result"
    }
   ],
   "source": [
    "model.fit(X, y)"
   ]
  },
  {
   "cell_type": "code",
   "execution_count": 9,
   "metadata": {
    "id": "QYPbYCKfRVck"
   },
   "outputs": [],
   "source": [
    "# Predictions on the basis of the model\n",
    "y_pred2 = model.predict(X)\n",
    "# y_pred2"
   ]
  },
  {
   "cell_type": "code",
   "execution_count": 10,
   "metadata": {
    "colab": {
     "base_uri": "https://localhost:8080/"
    },
    "id": "YOHRRYgYRnZh",
    "outputId": "72bfe849-d798-4d72-bad6-205b17e7be9e"
   },
   "outputs": [
    {
     "data": {
      "text/plain": [
       "0.7019700219367477"
      ]
     },
     "execution_count": 10,
     "metadata": {},
     "output_type": "execute_result"
    }
   ],
   "source": [
    "# Find the value of r squared\n",
    "r2_score(y, y_pred2)"
   ]
  },
  {
   "cell_type": "code",
   "execution_count": 11,
   "metadata": {},
   "outputs": [
    {
     "data": {
      "image/png": "[encoded data removed]",
      "text/plain": [
       "<Figure size 432x288 with 1 Axes>"
      ]
     },
     "metadata": {
      "needs_background": "light"
     },
     "output_type": "display_data"
    }
   ],
   "source": [
    "plt.scatter( X , y , color = 'blue')\n",
    "plt.plot(X , y_pred2 , color = 'red' , linewidth = 3)\n",
    "plt.xlabel(\"time\")\n",
    "plt.ylabel(\"distance\")\n",
    "plt.show()"
   ]
  },
  {
   "cell_type": "code",
   "execution_count": 12,
   "metadata": {
    "colab": {
     "base_uri": "https://localhost:8080/"
    },
    "id": "Ed_rLssSU_AN",
    "outputId": "b78421f2-6606-4ef5-e28c-ab2e6cebf5a4"
   },
   "outputs": [
    {
     "name": "stdout",
     "output_type": "stream",
     "text": [
      "[3.01233335]\n",
      "[[0.02494362]]\n"
     ]
    }
   ],
   "source": [
    "# Calculate beta0 and beta1.\n",
    "print(model.intercept_)\n",
    "print(model.coef_)"
   ]
  },
  {
   "cell_type": "code",
   "execution_count": 13,
   "metadata": {
    "colab": {
     "base_uri": "https://localhost:8080/"
    },
    "id": "SdZ4Pg2qU_A0",
    "outputId": "4836caae-db67-47aa-c5f5-5603cee9ad5e"
   },
   "outputs": [
    {
     "name": "stdout",
     "output_type": "stream",
     "text": [
      "38.035808448707726\n",
      "0.3169650704058977\n",
      "0.5629965101187553\n"
     ]
    }
   ],
   "source": [
    "# Metrics to give an overall sense of error in the model\n",
    "rss = np.sum(np.square(y - y_pred2))\n",
    "print(rss)\n",
    "mse = mean_squared_error(y, y_pred2)\n",
    "print(mse)\n",
    "rmse = mse**0.5\n",
    "print(rmse)\n"
   ]
  },
  {
   "cell_type": "code",
   "execution_count": 14,
   "metadata": {
    "id": "yjkyLZthRyrz"
   },
   "outputs": [],
   "source": [
    "#residual\n",
    "residual = y - y_pred2"
   ]
  },
  {
   "cell_type": "code",
   "execution_count": 15,
   "metadata": {
    "colab": {
     "base_uri": "https://localhost:8080/",
     "height": 278
    },
    "id": "yq1zygHBR7uT",
    "outputId": "f27ea7ca-d988-4917-e850-e0e51b6f435c"
   },
   "outputs": [
    {
     "data": {
      "image/png": "[encoded data removed]",
      "text/plain": [
       "<Figure size 432x288 with 1 Axes>"
      ]
     },
     "metadata": {
      "needs_background": "light"
     },
     "output_type": "display_data"
    }
   ],
   "source": [
    "# Scatter plot of the predicted values on the x-axis and the residuals on the y-axis\n",
    "plt.scatter( y_pred2 , residual)\n",
    "plt.axhline(y=0, color='r', linestyle=':')\n",
    "plt.xlabel(\"Predicted Distance (metres)\")\n",
    "plt.ylabel(\"Residual\")\n",
    "plt.show()"
   ]
  },
  {
   "cell_type": "code",
   "execution_count": 16,
   "metadata": {
    "colab": {
     "base_uri": "https://localhost:8080/",
     "height": 294
    },
    "id": "kWRnv8RmU_A7",
    "outputId": "a8e7d2a1-031d-4560-8b24-a1b69508ae15"
   },
   "outputs": [
    {
     "data": {
      "image/png": "[encoded data removed]",
      "text/plain": [
       "<Figure size 432x288 with 1 Axes>"
      ]
     },
     "metadata": {
      "needs_background": "light"
     },
     "output_type": "display_data"
    }
   ],
   "source": [
    "# Distribution of errors\n",
    "p = sns.distplot(residual,kde=True)\n",
    "p = plt.title('Normality of error terms/residuals')\n",
    "plt.xlabel(\"Residual\")\n",
    "plt.show()"
   ]
  },
  {
   "cell_type": "code",
   "execution_count": 17,
   "metadata": {
    "id": "iZydkRm_GZTg"
   },
   "outputs": [],
   "source": [
    "# As we can see that the residuals do not fulfill the conditions for linear regression, Lets see if we can make some changes so that the residuals are normally distributed.\n",
    "\n",
    "dist['time (seconds)(log)'] = np.log(dist['time'])"
   ]
  },
  {
   "cell_type": "code",
   "execution_count": 18,
   "metadata": {
    "colab": {
     "base_uri": "https://localhost:8080/",
     "height": 278
    },
    "id": "L5pRvbyzP56h",
    "outputId": "7af6a666-ce87-4403-a297-107aa6206297"
   },
   "outputs": [
    {
     "data": {
      "image/png": "[encoded data removed]",
      "text/plain": [
       "<Figure size 432x288 with 1 Axes>"
      ]
     },
     "metadata": {
      "needs_background": "light"
     },
     "output_type": "display_data"
    }
   ],
   "source": [
    "# Plotting a scatter plot\n",
    "sns.scatterplot( data = dist , x ='time (seconds)(log)' , y='distance')\n",
    "plt.show()"
   ]
  },
  {
   "cell_type": "code",
   "execution_count": 19,
   "metadata": {
    "id": "eGaZ6aH2GeR5"
   },
   "outputs": [],
   "source": [
    "# Splitting the dataset into X and y\n",
    "X = np.array(dist['time (seconds)(log)']).reshape(-1,1)\n",
    "y = np.array(dist['distance']).reshape(-1,1)"
   ]
  },
  {
   "cell_type": "code",
   "execution_count": 20,
   "metadata": {
    "colab": {
     "base_uri": "https://localhost:8080/"
    },
    "id": "F4CkavBbGeli",
    "outputId": "2286623e-5e91-4910-cdfc-d13621fb7e0e"
   },
   "outputs": [
    {
     "data": {
      "text/plain": [
       "LinearRegression()"
      ]
     },
     "execution_count": 20,
     "metadata": {},
     "output_type": "execute_result"
    }
   ],
   "source": [
    "# Building the regression model\n",
    "model = LinearRegression()\n",
    "\n",
    "model.fit(X, y)"
   ]
  },
  {
   "cell_type": "code",
   "execution_count": 21,
   "metadata": {
    "id": "w0tcA9ZYGe7l"
   },
   "outputs": [],
   "source": [
    "# Predictions on the basis of the model\n",
    "y_pred2 = model.predict(X)\n",
    "# y_pred2"
   ]
  },
  {
   "cell_type": "code",
   "execution_count": 22,
   "metadata": {
    "colab": {
     "base_uri": "https://localhost:8080/"
    },
    "id": "mi0YdcvhGfKv",
    "outputId": "1d537eb9-ad82-4787-be89-3ded842b5d02"
   },
   "outputs": [
    {
     "data": {
      "text/plain": [
       "0.8717123012103077"
      ]
     },
     "execution_count": 22,
     "metadata": {},
     "output_type": "execute_result"
    }
   ],
   "source": [
    "# Find the value of r squared\n",
    "r2_score(y, y_pred2)"
   ]
  },
  {
   "cell_type": "code",
   "execution_count": 23,
   "metadata": {},
   "outputs": [
    {
     "data": {
      "image/png": "[encoded data removed]",
      "text/plain": [
       "<Figure size 432x288 with 1 Axes>"
      ]
     },
     "metadata": {
      "needs_background": "light"
     },
     "output_type": "display_data"
    }
   ],
   "source": [
    "plt.scatter( X , y , color = 'blue')\n",
    "plt.plot(X , y_pred2 , color = 'red' , linewidth = 3)\n",
    "plt.xlabel(\"time (seconds)(log)\")\n",
    "plt.ylabel(\"distance\")\n",
    "plt.show()"
   ]
  },
  {
   "cell_type": "code",
   "execution_count": 24,
   "metadata": {
    "colab": {
     "base_uri": "https://localhost:8080/"
    },
    "id": "F5_SnhXPGgGR",
    "outputId": "e513dd1f-37c2-435a-b121-da2d5d5ce2d3"
   },
   "outputs": [
    {
     "name": "stdout",
     "output_type": "stream",
     "text": [
      "[0.58066733]\n",
      "[[1.03293534]]\n"
     ]
    }
   ],
   "source": [
    "# Calculate beta0 and beta1.\n",
    "print(model.intercept_)\n",
    "print(model.coef_)"
   ]
  },
  {
   "cell_type": "code",
   "execution_count": 25,
   "metadata": {
    "colab": {
     "base_uri": "https://localhost:8080/"
    },
    "id": "Awrqfc0TGt9H",
    "outputId": "b86551f6-c6b9-445d-b72a-0697c29f75b6"
   },
   "outputs": [
    {
     "name": "stdout",
     "output_type": "stream",
     "text": [
      "16.372602411340797\n",
      "0.13643835342783997\n",
      "0.369375626466934\n"
     ]
    }
   ],
   "source": [
    "# Metrics to give an overall sense of error in the model\n",
    "rss = np.sum(np.square(y - y_pred2))\n",
    "print(rss)\n",
    "mse = mean_squared_error(y, y_pred2)\n",
    "print(mse)\n",
    "rmse = mse**0.5\n",
    "print(rmse)"
   ]
  },
  {
   "cell_type": "code",
   "execution_count": 26,
   "metadata": {
    "id": "o-eMLCGCGfi_"
   },
   "outputs": [],
   "source": [
    "#residual\n",
    "residual = y - y_pred2"
   ]
  },
  {
   "cell_type": "code",
   "execution_count": 27,
   "metadata": {
    "colab": {
     "base_uri": "https://localhost:8080/",
     "height": 278
    },
    "id": "YxL2MJuLGf1r",
    "outputId": "15fe8454-1ac3-4986-a710-6d88ed64e623"
   },
   "outputs": [
    {
     "data": {
      "image/png": "[encoded data removed]",
      "text/plain": [
       "<Figure size 432x288 with 1 Axes>"
      ]
     },
     "metadata": {
      "needs_background": "light"
     },
     "output_type": "display_data"
    }
   ],
   "source": [
    "plt.scatter( y_pred2 , residual)\n",
    "plt.axhline(y=0, color='r', linestyle=':')\n",
    "plt.xlabel(\"Predicted Distance (metres)\")\n",
    "plt.ylabel(\"Residual\")\n",
    "plt.show()"
   ]
  },
  {
   "cell_type": "code",
   "execution_count": 28,
   "metadata": {
    "colab": {
     "base_uri": "https://localhost:8080/",
     "height": 294
    },
    "id": "Mo-yITcvGt2s",
    "outputId": "97073303-7ea3-48dd-be9d-7c7153778d21"
   },
   "outputs": [
    {
     "data": {
      "image/png": "[encoded data removed]",
      "text/plain": [
       "<Figure size 432x288 with 1 Axes>"
      ]
     },
     "metadata": {
      "needs_background": "light"
     },
     "output_type": "display_data"
    }
   ],
   "source": [
    "\n",
    "# Distribution of errors\n",
    "p = sns.distplot(residual,kde=True)\n",
    "p = plt.title('Normality of error terms/residuals')\n",
    "plt.xlabel(\"Residual\")\n",
    "plt.show()"
   ]
  },
  {
   "cell_type": "markdown",
   "metadata": {
    "id": "UyR0EdRHm3lb"
   },
   "source": [
    "### Modeling non-linear relationship using Polynomial Regression"
   ]
  },
  {
   "cell_type": "code",
   "execution_count": 29,
   "metadata": {
    "colab": {
     "base_uri": "https://localhost:8080/",
     "height": 197
    },
    "id": "8KNPRGw2VYJ6",
    "outputId": "25a3699b-9d5e-4f02-eb02-ad9bf00e61e2"
   },
   "outputs": [
    {
     "data": {
      "text/html": [
       "<div>\n",
       "<style scoped>\n",
       "    .dataframe tbody tr th:only-of-type {\n",
       "        vertical-align: middle;\n",
       "    }\n",
       "\n",
       "    .dataframe tbody tr th {\n",
       "        vertical-align: top;\n",
       "    }\n",
       "\n",
       "    .dataframe thead th {\n",
       "        text-align: right;\n",
       "    }\n",
       "</style>\n",
       "<table border=\"1\" class=\"dataframe\">\n",
       "  <thead>\n",
       "    <tr style=\"text-align: right;\">\n",
       "      <th></th>\n",
       "      <th>number_courses</th>\n",
       "      <th>time_study</th>\n",
       "      <th>Marks</th>\n",
       "    </tr>\n",
       "  </thead>\n",
       "  <tbody>\n",
       "    <tr>\n",
       "      <th>0</th>\n",
       "      <td>3</td>\n",
       "      <td>4.508</td>\n",
       "      <td>19.202</td>\n",
       "    </tr>\n",
       "    <tr>\n",
       "      <th>1</th>\n",
       "      <td>4</td>\n",
       "      <td>0.096</td>\n",
       "      <td>7.734</td>\n",
       "    </tr>\n",
       "    <tr>\n",
       "      <th>2</th>\n",
       "      <td>4</td>\n",
       "      <td>3.133</td>\n",
       "      <td>13.811</td>\n",
       "    </tr>\n",
       "    <tr>\n",
       "      <th>3</th>\n",
       "      <td>6</td>\n",
       "      <td>7.909</td>\n",
       "      <td>53.018</td>\n",
       "    </tr>\n",
       "    <tr>\n",
       "      <th>4</th>\n",
       "      <td>8</td>\n",
       "      <td>7.811</td>\n",
       "      <td>55.299</td>\n",
       "    </tr>\n",
       "  </tbody>\n",
       "</table>\n",
       "</div>"
      ],
      "text/plain": [
       "   number_courses  time_study   Marks\n",
       "0               3       4.508  19.202\n",
       "1               4       0.096   7.734\n",
       "2               4       3.133  13.811\n",
       "3               6       7.909  53.018\n",
       "4               8       7.811  55.299"
      ]
     },
     "execution_count": 29,
     "metadata": {},
     "output_type": "execute_result"
    }
   ],
   "source": [
    "# Model to predict marks given the number of courses taken and the time the student gives to study \n",
    "# on a daily basis.\n",
    "data = pd.read_csv(\"AR - Examples - 1.6.csv\")\n",
    "data.head()"
   ]
  },
  {
   "cell_type": "code",
   "execution_count": 30,
   "metadata": {
    "colab": {
     "base_uri": "https://localhost:8080/",
     "height": 297
    },
    "id": "nQQC0bwpYH0n",
    "outputId": "25a683cc-3f4b-4c05-d1cf-d0af104ee455"
   },
   "outputs": [
    {
     "data": {
      "text/plain": [
       "<matplotlib.axes._subplots.AxesSubplot at 0x2046b4f0b50>"
      ]
     },
     "execution_count": 30,
     "metadata": {},
     "output_type": "execute_result"
    },
    {
     "data": {
      "image/png": "[encoded data removed]",
      "text/plain": [
       "<Figure size 432x288 with 1 Axes>"
      ]
     },
     "metadata": {
      "needs_background": "light"
     },
     "output_type": "display_data"
    }
   ],
   "source": [
    "# Plotting a scatter plot\n",
    "sns.scatterplot( data = data , x = 'number_courses' , y = 'Marks')"
   ]
  },
  {
   "cell_type": "code",
   "execution_count": 31,
   "metadata": {
    "colab": {
     "base_uri": "https://localhost:8080/",
     "height": 297
    },
    "id": "H-YVPqtbYH0r",
    "outputId": "18162b51-9138-471d-b0cc-e64289337b7d"
   },
   "outputs": [
    {
     "data": {
      "text/plain": [
       "<matplotlib.axes._subplots.AxesSubplot at 0x2046b447e20>"
      ]
     },
     "execution_count": 31,
     "metadata": {},
     "output_type": "execute_result"
    },
    {
     "data": {
      "image/png": "[encoded data removed]",
      "text/plain": [
       "<Figure size 432x288 with 1 Axes>"
      ]
     },
     "metadata": {
      "needs_background": "light"
     },
     "output_type": "display_data"
    }
   ],
   "source": [
    "# Plotting a scatter plot\n",
    "sns.scatterplot( data = data , x = 'time_study' , y = 'Marks')"
   ]
  },
  {
   "cell_type": "code",
   "execution_count": 32,
   "metadata": {
    "id": "wyzsOLxvYH0y"
   },
   "outputs": [],
   "source": [
    "# Splitting the dataset into X and y\n",
    "X = data[['number_courses' , 'time_study']]\n",
    "y = np.array(data['Marks']).reshape(-1,1)"
   ]
  },
  {
   "cell_type": "code",
   "execution_count": 33,
   "metadata": {
    "colab": {
     "base_uri": "https://localhost:8080/"
    },
    "id": "aGX4nAAPYH00",
    "outputId": "c71b4f7f-1814-49e8-db12-933b3d99ceee"
   },
   "outputs": [
    {
     "data": {
      "text/plain": [
       "LinearRegression()"
      ]
     },
     "execution_count": 33,
     "metadata": {},
     "output_type": "execute_result"
    }
   ],
   "source": [
    "# Building the regression model\n",
    "reg = LinearRegression()\n",
    "reg.fit(X,y)"
   ]
  },
  {
   "cell_type": "code",
   "execution_count": 34,
   "metadata": {
    "id": "IqDN8e84YH02"
   },
   "outputs": [],
   "source": [
    "# Predictions on the basis of the model\n",
    "y_pred = reg.predict(X)\n",
    "#y_pred"
   ]
  },
  {
   "cell_type": "code",
   "execution_count": 35,
   "metadata": {
    "colab": {
     "base_uri": "https://localhost:8080/"
    },
    "id": "pegMvW_DYH04",
    "outputId": "025439ea-a0db-43cd-9704-87ae35b5064c"
   },
   "outputs": [
    {
     "data": {
      "text/plain": [
       "0.9403656320238896"
      ]
     },
     "execution_count": 35,
     "metadata": {},
     "output_type": "execute_result"
    }
   ],
   "source": [
    "# Find the value of r squared\n",
    "r2_score(y , y_pred)"
   ]
  },
  {
   "cell_type": "code",
   "execution_count": 36,
   "metadata": {
    "colab": {
     "base_uri": "https://localhost:8080/"
    },
    "id": "ekn8Kn8ZYH1D",
    "outputId": "ebabda98-0c29-4619-df98-f847ded60701"
   },
   "outputs": [
    {
     "name": "stdout",
     "output_type": "stream",
     "text": [
      "[-7.45634623]\n",
      "[[1.86405074 5.39917879]]\n"
     ]
    }
   ],
   "source": [
    "# Calculate beta0 and beta1.\n",
    "print(reg.intercept_)\n",
    "print(reg.coef_)"
   ]
  },
  {
   "cell_type": "code",
   "execution_count": 37,
   "metadata": {
    "colab": {
     "base_uri": "https://localhost:8080/"
    },
    "id": "cdlVIYH1YH1F",
    "outputId": "9788d1f4-ebcf-4be1-cd10-10b5ff1ac144"
   },
   "outputs": [
    {
     "name": "stdout",
     "output_type": "stream",
     "text": [
      "1211.696206910895\n",
      "12.116962069108949\n",
      "3.4809426983374703\n"
     ]
    }
   ],
   "source": [
    "# Metrics to give an overall sense of error in the model\n",
    "rss = np.sum(np.square(y - y_pred))\n",
    "print(rss)\n",
    "mse = mean_squared_error(y, y_pred)\n",
    "print(mse)\n",
    "rmse = mse**0.5\n",
    "print(rmse)"
   ]
  },
  {
   "cell_type": "code",
   "execution_count": 38,
   "metadata": {
    "id": "J9PaDywRYH1H"
   },
   "outputs": [],
   "source": [
    "# Residual analysis\n",
    "y_res = y - y_pred\n",
    "#y_res"
   ]
  },
  {
   "cell_type": "code",
   "execution_count": 39,
   "metadata": {
    "colab": {
     "base_uri": "https://localhost:8080/",
     "height": 278
    },
    "id": "TLShNOYsM737",
    "outputId": "2fa5e851-d1ae-4d5b-8a42-f7ce20396de0"
   },
   "outputs": [
    {
     "data": {
      "image/png": "[encoded data removed]",
      "text/plain": [
       "<Figure size 432x288 with 1 Axes>"
      ]
     },
     "metadata": {
      "needs_background": "light"
     },
     "output_type": "display_data"
    }
   ],
   "source": [
    "data['res'] = y_res\n",
    "plt.scatter( y_pred , data['res'])\n",
    "plt.axhline(y=0, color='r', linestyle=':')\n",
    "plt.xlabel(\"Predictions\")\n",
    "plt.ylabel(\"Residual\")\n",
    "plt.show()"
   ]
  },
  {
   "cell_type": "markdown",
   "metadata": {},
   "source": [
    "Checking which variable is non-linearly related to the response value"
   ]
  },
  {
   "cell_type": "code",
   "execution_count": 40,
   "metadata": {
    "colab": {
     "base_uri": "https://localhost:8080/",
     "height": 278
    },
    "id": "EAT8NM-KYH1K",
    "outputId": "27374649-55a5-48a2-903f-a22b55d4ed9a"
   },
   "outputs": [
    {
     "data": {
      "image/png": "[encoded data removed]",
      "text/plain": [
       "<Figure size 432x288 with 1 Axes>"
      ]
     },
     "metadata": {
      "needs_background": "light"
     },
     "output_type": "display_data"
    }
   ],
   "source": [
    "data['res'] = y_res\n",
    "plt.scatter( data['number_courses'] , data['res'])\n",
    "plt.axhline(y=0, color='r', linestyle=':')\n",
    "plt.xlabel(\"Number courses\")\n",
    "plt.ylabel(\"Residual\")\n",
    "plt.show()"
   ]
  },
  {
   "cell_type": "code",
   "execution_count": 41,
   "metadata": {
    "colab": {
     "base_uri": "https://localhost:8080/",
     "height": 278
    },
    "id": "5Y2GAw74Z2yf",
    "outputId": "237cf08b-abff-4f4c-bc15-a5f72048478e"
   },
   "outputs": [
    {
     "data": {
      "image/png": "[encoded data removed]",
      "text/plain": [
       "<Figure size 432x288 with 1 Axes>"
      ]
     },
     "metadata": {
      "needs_background": "light"
     },
     "output_type": "display_data"
    }
   ],
   "source": [
    "plt.scatter( data['time_study'] , data['res'])\n",
    "plt.axhline(y=0, color='r', linestyle=':')\n",
    "plt.xlabel(\"Time study\")\n",
    "plt.ylabel(\"Residual\")\n",
    "plt.show()"
   ]
  },
  {
   "cell_type": "code",
   "execution_count": 42,
   "metadata": {
    "colab": {
     "base_uri": "https://localhost:8080/",
     "height": 294
    },
    "id": "SR569GE7YH1M",
    "outputId": "710718a1-3c36-4b01-fa73-9678758bc784"
   },
   "outputs": [
    {
     "data": {
      "image/png": "[encoded data removed]",
      "text/plain": [
       "<Figure size 432x288 with 1 Axes>"
      ]
     },
     "metadata": {
      "needs_background": "light"
     },
     "output_type": "display_data"
    }
   ],
   "source": [
    "# Distribution of errors\n",
    "p = sns.distplot(y_res,kde=True)\n",
    "\n",
    "p = plt.title('Normality of error terms/residuals')\n",
    "plt.xlabel(\"Residuals\")\n",
    "plt.show()"
   ]
  },
  {
   "cell_type": "code",
   "execution_count": null,
   "metadata": {},
   "outputs": [],
   "source": []
  },
  {
   "cell_type": "code",
   "execution_count": null,
   "metadata": {},
   "outputs": [],
   "source": []
  },
  {
   "cell_type": "code",
   "execution_count": null,
   "metadata": {},
   "outputs": [],
   "source": []
  },
  {
   "cell_type": "code",
   "execution_count": null,
   "metadata": {},
   "outputs": [],
   "source": []
  },
  {
   "cell_type": "code",
   "execution_count": null,
   "metadata": {},
   "outputs": [],
   "source": []
  },
  {
   "cell_type": "code",
   "execution_count": null,
   "metadata": {},
   "outputs": [],
   "source": []
  },
  {
   "cell_type": "code",
   "execution_count": null,
   "metadata": {},
   "outputs": [],
   "source": []
  },
  {
   "cell_type": "code",
   "execution_count": null,
   "metadata": {},
   "outputs": [],
   "source": []
  },
  {
   "cell_type": "code",
   "execution_count": null,
   "metadata": {},
   "outputs": [],
   "source": []
  },
  {
   "cell_type": "code",
   "execution_count": null,
   "metadata": {},
   "outputs": [],
   "source": []
  },
  {
   "cell_type": "code",
   "execution_count": null,
   "metadata": {},
   "outputs": [],
   "source": []
  },
  {
   "cell_type": "markdown",
   "metadata": {
    "id": "2sJeRTkqvtW5"
   },
   "source": [
    "### Fitting Polynomial Regression Model "
   ]
  },
  {
   "cell_type": "code",
   "execution_count": 45,
   "metadata": {
    "id": "1Y7IkfB4aGhC"
   },
   "outputs": [],
   "source": [
    "# Transforming the time_study variable\n",
    "data['time_study_squared'] = data['time_study']*data['time_study']"
   ]
  },
  {
   "cell_type": "code",
   "execution_count": 46,
   "metadata": {
    "colab": {
     "base_uri": "https://localhost:8080/",
     "height": 278
    },
    "id": "dYSB-UWCQ2Jq",
    "outputId": "7b3a9777-4c89-4244-81bc-5483e3d5a001"
   },
   "outputs": [
    {
     "data": {
      "image/png": "[encoded data removed]",
      "text/plain": [
       "<Figure size 432x288 with 1 Axes>"
      ]
     },
     "metadata": {
      "needs_background": "light"
     },
     "output_type": "display_data"
    }
   ],
   "source": [
    "plt.scatter( data['time_study_squared'] , data['Marks'])\n",
    "plt.xlabel(\"Time study squared\")\n",
    "plt.ylabel(\"Marks\")\n",
    "plt.show()"
   ]
  },
  {
   "cell_type": "code",
   "execution_count": 47,
   "metadata": {
    "id": "Asbt6moioop2"
   },
   "outputs": [],
   "source": [
    "# Splitting the dataset into X and y\n",
    "X = data[['number_courses' , 'time_study', 'time_study_squared']] \n",
    "y = np.array(data['Marks']).reshape(-1,1)"
   ]
  },
  {
   "cell_type": "code",
   "execution_count": 48,
   "metadata": {
    "colab": {
     "base_uri": "https://localhost:8080/"
    },
    "id": "aRbQ3STYoop6",
    "outputId": "19a14aa4-1866-40cb-9fa1-799bcc35dc40"
   },
   "outputs": [
    {
     "data": {
      "text/plain": [
       "LinearRegression()"
      ]
     },
     "execution_count": 48,
     "metadata": {},
     "output_type": "execute_result"
    }
   ],
   "source": [
    "# Building the regression model\n",
    "reg = LinearRegression()\n",
    "reg.fit(X,y)"
   ]
  },
  {
   "cell_type": "code",
   "execution_count": 49,
   "metadata": {
    "id": "iwlR0PG6oop9"
   },
   "outputs": [],
   "source": [
    "# Predictions on the basis of the model\n",
    "y_pred = reg.predict(X)\n",
    "# y_pred"
   ]
  },
  {
   "cell_type": "code",
   "execution_count": 50,
   "metadata": {
    "colab": {
     "base_uri": "https://localhost:8080/"
    },
    "id": "bUGyZkBSooqA",
    "outputId": "5e5eec22-86c8-400d-e804-6cb54fcce2fa"
   },
   "outputs": [
    {
     "data": {
      "text/plain": [
       "0.9996529294889802"
      ]
     },
     "execution_count": 50,
     "metadata": {},
     "output_type": "execute_result"
    }
   ],
   "source": [
    "# Find the value of r squared\n",
    "r2_score(y , y_pred)"
   ]
  },
  {
   "cell_type": "code",
   "execution_count": 51,
   "metadata": {
    "colab": {
     "base_uri": "https://localhost:8080/",
     "height": 278
    },
    "id": "HgAjmrchooqC",
    "outputId": "50ee458f-827c-4112-c36b-6d67525f7351"
   },
   "outputs": [
    {
     "data": {
      "image/png": "[encoded data removed]",
      "text/plain": [
       "<Figure size 432x288 with 1 Axes>"
      ]
     },
     "metadata": {
      "needs_background": "light"
     },
     "output_type": "display_data"
    }
   ],
   "source": [
    "plt.scatter( X['number_courses'] , y , color = 'red')\n",
    "plt.scatter( X['number_courses'] , y_pred , color = 'blue' )\n",
    "plt.xlabel(\"Number Courses\")\n",
    "plt.ylabel(\"Marks\")\n",
    "plt.show()"
   ]
  },
  {
   "cell_type": "code",
   "execution_count": 52,
   "metadata": {
    "colab": {
     "base_uri": "https://localhost:8080/",
     "height": 278
    },
    "id": "yFdPbj-EooqE",
    "outputId": "c3cefee6-e229-480d-f0f6-7e3f035ddb99"
   },
   "outputs": [
    {
     "data": {
      "image/png": "[encoded data removed]",
      "text/plain": [
       "<Figure size 432x288 with 1 Axes>"
      ]
     },
     "metadata": {
      "needs_background": "light"
     },
     "output_type": "display_data"
    }
   ],
   "source": [
    "plt.scatter( X['time_study_squared'] , y , color = 'red')\n",
    "plt.scatter( X['time_study_squared'] , y_pred , color = 'blue' )\n",
    "plt.xlabel(\"Time Study Squared\")\n",
    "plt.ylabel(\"Marks\")\n",
    "plt.show()"
   ]
  },
  {
   "cell_type": "code",
   "execution_count": 53,
   "metadata": {
    "colab": {
     "base_uri": "https://localhost:8080/"
    },
    "id": "nr6m2q7PooqG",
    "outputId": "3c650133-d5b3-4537-d724-fffc008de93d"
   },
   "outputs": [
    {
     "name": "stdout",
     "output_type": "stream",
     "text": [
      "[0.56299581]\n",
      "[[ 1.70546941 -0.02855268  0.67346253]]\n"
     ]
    }
   ],
   "source": [
    "# Calculate beta0 and beta1.\n",
    "print(reg.intercept_)\n",
    "print(reg.coef_)"
   ]
  },
  {
   "cell_type": "code",
   "execution_count": 54,
   "metadata": {
    "colab": {
     "base_uri": "https://localhost:8080/"
    },
    "id": "AgaZ_6gbooqI",
    "outputId": "bf68d9f5-53b0-4405-e5f0-160965c41e3c"
   },
   "outputs": [
    {
     "name": "stdout",
     "output_type": "stream",
     "text": [
      "7.0520412306838045\n",
      "0.07052041230683805\n",
      "0.26555679676264743\n"
     ]
    }
   ],
   "source": [
    "#Residual Sum of Squares = Mean_Squared_Error * Total number of datapoints\n",
    "rss = np.sum(np.square(y - y_pred))\n",
    "print(rss)\n",
    "mse = mean_squared_error(y, y_pred)\n",
    "print(mse)\n",
    "rmse = mse**0.5\n",
    "print(rmse)"
   ]
  },
  {
   "cell_type": "code",
   "execution_count": 55,
   "metadata": {
    "id": "jHrr08xdooqK"
   },
   "outputs": [],
   "source": [
    "# Residual analysis\n",
    "y_res = y - y_pred\n",
    "#y_res"
   ]
  },
  {
   "cell_type": "code",
   "execution_count": 56,
   "metadata": {},
   "outputs": [
    {
     "data": {
      "image/png": "[encoded data removed]",
      "text/plain": [
       "<Figure size 432x288 with 1 Axes>"
      ]
     },
     "metadata": {
      "needs_background": "light"
     },
     "output_type": "display_data"
    }
   ],
   "source": [
    "data['res'] = y_res\n",
    "plt.scatter( y_pred , data['res'])\n",
    "plt.axhline(y=0, color='r', linestyle=':')\n",
    "plt.xlabel(\"Predictions\")\n",
    "plt.ylabel(\"Residual\")\n",
    "plt.show()"
   ]
  },
  {
   "cell_type": "code",
   "execution_count": 57,
   "metadata": {
    "colab": {
     "base_uri": "https://localhost:8080/",
     "height": 278
    },
    "id": "YH1-x6xlooqN",
    "outputId": "30f892d7-d5e8-4372-9be3-732af82daf69"
   },
   "outputs": [
    {
     "data": {
      "image/png": "[encoded data removed]",
      "text/plain": [
       "<Figure size 432x288 with 1 Axes>"
      ]
     },
     "metadata": {
      "needs_background": "light"
     },
     "output_type": "display_data"
    }
   ],
   "source": [
    "data['res'] = y_res\n",
    "plt.scatter( data['number_courses'] , data['res'])\n",
    "plt.axhline(y=0, color='r', linestyle=':')\n",
    "plt.xlabel(\"Number courses\")\n",
    "plt.ylabel(\"Residual\")\n",
    "plt.show()"
   ]
  },
  {
   "cell_type": "code",
   "execution_count": 58,
   "metadata": {
    "colab": {
     "base_uri": "https://localhost:8080/",
     "height": 278
    },
    "id": "XcE_5tXRooqP",
    "outputId": "019f5996-4ef9-4ceb-dabe-3ea615623a61"
   },
   "outputs": [
    {
     "data": {
      "image/png": "[encoded data removed]",
      "text/plain": [
       "<Figure size 432x288 with 1 Axes>"
      ]
     },
     "metadata": {
      "needs_background": "light"
     },
     "output_type": "display_data"
    }
   ],
   "source": [
    "plt.scatter( data['time_study_squared'] , data['res'])\n",
    "plt.axhline(y=0, color='r', linestyle=':')\n",
    "plt.xlabel(\"Time study Squared\")\n",
    "plt.ylabel(\"Residual\")\n",
    "plt.show()"
   ]
  },
  {
   "cell_type": "code",
   "execution_count": 59,
   "metadata": {
    "colab": {
     "base_uri": "https://localhost:8080/",
     "height": 294
    },
    "id": "806WZJMvooqT",
    "outputId": "9a324797-ebc9-422e-cf8e-be8fc1b832cf"
   },
   "outputs": [
    {
     "data": {
      "image/png": "[encoded data removed]",
      "text/plain": [
       "<Figure size 432x288 with 1 Axes>"
      ]
     },
     "metadata": {
      "needs_background": "light"
     },
     "output_type": "display_data"
    }
   ],
   "source": [
    "# Distribution of errors\n",
    "p = sns.distplot(y_res,kde=True)\n",
    "\n",
    "p = plt.title('Normality of error terms/residuals')\n",
    "plt.xlabel(\"Residuals\")\n",
    "plt.show()"
   ]
  },
  {
   "cell_type": "code",
   "execution_count": null,
   "metadata": {
    "id": "arw-Zo8mSRV7"
   },
   "outputs": [],
   "source": []
  }
 ],
 "metadata": {
  "colab": {
   "collapsed_sections": [
    "jKO61s769a9M",
    "Ts_s172rmjBA",
    "fKybRYJkMEPG",
    "ud3Gp7DPrNOf",
    "RG2gLSFMxXD-",
    "xCkrXw5-Mxfi",
    "gArjGH_6M0Dc"
   ],
   "name": "AR_examples",
   "provenance": []
  },
  "kernelspec": {
   "display_name": "Python 3",
   "language": "python",
   "name": "python3"
  },
  "language_info": {
   "codemirror_mode": {
    "name": "ipython",
    "version": 3
   },
   "file_extension": ".py",
   "mimetype": "text/x-python",
   "name": "python",
   "nbconvert_exporter": "python",
   "pygments_lexer": "ipython3",
   "version": "3.8.3"
  }
 },
 "nbformat": 4,
 "nbformat_minor": 1
}
